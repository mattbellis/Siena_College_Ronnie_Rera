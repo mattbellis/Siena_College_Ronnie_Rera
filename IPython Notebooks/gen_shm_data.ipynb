{
 "metadata": {
  "name": "",
  "signature": "sha256:ac5774a33585532e5371699bf9f8961d93f8aa64bbb3cbd091e838fed2bd64e8"
 },
 "nbformat": 3,
 "nbformat_minor": 0,
 "worksheets": [
  {
   "cells": [
    {
     "cell_type": "code",
     "collapsed": false,
     "input": [
      "import dm_models as dmm\n",
      "import matplotlib.pylab as plt\n",
      "import numpy as np\n",
      "from dm_models import dRdErSHM\n",
      "import csv\n",
      "import numpy as np\n",
      "from cogent_stuff import *\n",
      "%matplotlib inline"
     ],
     "language": "python",
     "metadata": {},
     "outputs": [],
     "prompt_number": 1
    },
    {
     "cell_type": "code",
     "collapsed": false,
     "input": [
      "def gen_shm_data(maxpts,max_days,mDM,sigma_n,name_of_output_file):\n",
      "    \n",
      "    fast_mean_rel_k = [0.431998,-1.525604,-0.024960]\n",
      "    fast_sigma_rel_k = [-0.014644,5.745791,-6.168695]\n",
      "    fast_num_rel_k = [-0.261322,5.553102,-5.9144]\n",
      "\n",
      "    mu0 = [0.374145,0.628990,-1.369876]\n",
      "    sigma0 = [1.383249,0.495044,0.263360]\n",
      "\n",
      "    rise_time = 2.0\n",
      "    energy = 1.0\n",
      "    rt_fast = rise_time_prob_fast_exp_dist(rise_time,energy,mu0,sigma0,fast_mean_rel_k,fast_sigma_rel_k,fast_num_rel_k,0,7)\n",
      "\n",
      "    target_atom = dmm.AGe\n",
      "    xpts = [] # These are the points I ``accept\"\n",
      "    max_prob = 0.07*4.0\n",
      "    energies = []\n",
      "    days = []\n",
      "    rise_times = []\n",
      "\n",
      "    npts = 0\n",
      "    while npts < maxpts:\n",
      "\n",
      "        e = (2.5*np.random.random() + 0.5) # This is the energy\n",
      "        t = (max_days)*np.random.random()\n",
      "        rt = (6.0)*np.random.random()\n",
      "\n",
      "        re = dmm.quench_keVee_to_keVr(e)\n",
      "\n",
      "        prob = dRdErSHM(re,t,target_atom,mDM,sigma_n)\n",
      "        rtf = rise_time_prob_fast_exp_dist(rt,e,mu0,sigma0,fast_mean_rel_k,fast_sigma_rel_k,fast_num_rel_k,0,7)\n",
      "\n",
      "        prob *= rtf\n",
      "\n",
      "        probtest = max_prob*np.random.random() # This is to see whether or not we keep x!\n",
      "\n",
      "        if probtest<prob:\n",
      "            energies.append(e)\n",
      "            days.append(t)\n",
      "            rise_times.append(rt)\n",
      "            npts += 1\n",
      "    a=energies\n",
      "    b=days\n",
      "    c=rise_times\n",
      "    zip(a,b,c)\n",
      "    with open(name_of_output_file,'w') as f:\n",
      "        writer = csv.writer(f, delimiter='\\t')\n",
      "        writer.writerows(zip(a,b,c))\n",
      "        \n",
      "    return a,b,c\n",
      "    \n",
      "energies,days,rise_times = gen_shm_data(100,365,10,1e-42,'test_data.dat')"
     ],
     "language": "python",
     "metadata": {},
     "outputs": [],
     "prompt_number": 3
    },
    {
     "cell_type": "code",
     "collapsed": false,
     "input": [
      "plt.hist(energies)"
     ],
     "language": "python",
     "metadata": {},
     "outputs": [
      {
       "metadata": {},
       "output_type": "pyout",
       "prompt_number": 4,
       "text": [
        "(array([ 50.,  20.,  14.,   4.,   4.,   4.,   2.,   0.,   1.,   1.]),\n",
        " array([ 0.50189858,  0.73335631,  0.96481403,  1.19627175,  1.42772947,\n",
        "         1.65918719,  1.89064492,  2.12210264,  2.35356036,  2.58501808,\n",
        "         2.8164758 ]),\n",
        " <a list of 10 Patch objects>)"
       ]
      },
      {
       "metadata": {},
       "output_type": "display_data",
       "png": "[encoded data removed]",
       "text": [
        "<matplotlib.figure.Figure at 0x7f8293d6ae50>"
       ]
      }
     ],
     "prompt_number": 4
    },
    {
     "cell_type": "code",
     "collapsed": false,
     "input": [],
     "language": "python",
     "metadata": {},
     "outputs": []
    }
   ],
   "metadata": {}
  }
 ]
}