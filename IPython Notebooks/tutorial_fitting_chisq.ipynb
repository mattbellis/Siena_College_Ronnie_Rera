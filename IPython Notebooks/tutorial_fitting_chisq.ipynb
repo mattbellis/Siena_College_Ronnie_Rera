{
 "metadata": {
  "name": "",
  "signature": "sha256:fce643ca91b80ddb07179f488ca4b9baf6596c5ecf4270633dd2438bda78972e"
 },
 "nbformat": 3,
 "nbformat_minor": 0,
 "worksheets": [
  {
   "cells": [
    {
     "cell_type": "code",
     "collapsed": false,
     "input": [
      "import numpy as np\n",
      "import matplotlib.pyplot as plt\n",
      "\n",
      "from scipy import optimize\n",
      "\n",
      "%matplotlib inline\n",
      "\n",
      "################################################################################\n",
      "def fitfunc(p, x):\n",
      "    ret = p[1]*x + p[0]\n",
      "    return ret\n",
      "\n",
      "################################################################################\n",
      "def errfunc(p, x, y, yerr):\n",
      "    ret =  (((fitfunc(p, x)-y)**2)/yerr**2).sum()\n",
      "    return ret\n",
      "\n",
      "################################################################################\n",
      "# Generate some fake data points\n",
      "################################################################################\n",
      "slope = 0.5\n",
      "intercept = 4.0\n",
      "x = np.array([1,2,3,4])\n",
      "y = slope*x + intercept\n",
      "y2 = slope*x + intercept\n",
      "\n",
      "print x\n",
      "\n",
      "# Add some random noise\n",
      "yerr = np.array([0.1,0.3,0.2,0.25])\n",
      "for i in range(0,len(y)):\n",
      "    y[i] += np.random.normal(0,yerr[i])\n",
      "\n",
      "fig = plt.figure()\n",
      "ax = fig.add_subplot(111)\n",
      "ax.errorbar(x,y,yerr=yerr,fmt='o')\n",
      "ax.set_xlim(0,5)\n",
      "ax.plot(x,y2,'-g')\n",
      "\n",
      "params_starting_vals = [1.0,1.0]\n",
      "params_final_vals = optimize.fmin(errfunc, params_starting_vals[:], args=(x,y,yerr),full_output=True)\n",
      "\n",
      "print \"Final values\"\n",
      "print params_final_vals\n",
      "fit_intercept = params_final_vals[0][0]\n",
      "fit_slope = params_final_vals[0][1]\n",
      "\n",
      "plt.show()\n"
     ],
     "language": "python",
     "metadata": {},
     "outputs": [
      {
       "output_type": "stream",
       "stream": "stdout",
       "text": [
        "[1 2 3 4]\n",
        "Optimization terminated successfully."
       ]
      },
      {
       "output_type": "stream",
       "stream": "stdout",
       "text": [
        "\n",
        "         Current function value: 2.812412\n",
        "         Iterations: 43\n",
        "         Function evaluations: 83\n",
        "Final values\n",
        "(array([ 3.98846323,  0.48828848]), 2.8124117295117435, 43, 83, 0)\n"
       ]
      },
      {
       "metadata": {},
       "output_type": "display_data",
       "png": "[encoded data removed]",
       "text": [
        "<matplotlib.figure.Figure at 0x7f1614647d90>"
       ]
      }
     ],
     "prompt_number": 2
    },
    {
     "cell_type": "code",
     "collapsed": false,
     "input": [],
     "language": "python",
     "metadata": {},
     "outputs": []
    }
   ],
   "metadata": {}
  }
 ]
}