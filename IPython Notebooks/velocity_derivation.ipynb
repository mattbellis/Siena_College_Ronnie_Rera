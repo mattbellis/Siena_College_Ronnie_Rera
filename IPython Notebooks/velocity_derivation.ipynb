{
 "metadata": {
  "name": "",
  "signature": "sha256:84ab04d71197b5e40dcaa995e7e3ced4a1c053fb08b212b787459edd0a12ac36"
 },
 "nbformat": 3,
 "nbformat_minor": 0,
 "worksheets": [
  {
   "cells": [
    {
     "cell_type": "markdown",
     "metadata": {},
     "source": [
      "Derivation for the incomming velocity of a wimp colliding head on with a germanium atom initial at rest:\n",
      "\n"
     ]
    },
    {
     "cell_type": "markdown",
     "metadata": {},
     "source": [
      "We want to find the incomming velocity of a WIMP that collides with a germanium atom given the kinetic energy the atom recoils with."
     ]
    },
    {
     "cell_type": "markdown",
     "metadata": {},
     "source": [
      "Let $m_2$ denote the mass of the imcomming WIMP, $v_o$ denote its incomming velocity, and $v_2$ is the WIMP's velocity after the collision. We will denote the germanium atom's mass as $m_1$ and it's recoil velocity as $v_1$.\n",
      "\n",
      "The atom is initial at rest when a WIMP moving with velocity $v_o$ collides with the atom. The WIMP and the atom move away with velocities $v_2$ and $v_1$ respectively. Since this is an elastic collision, we know both momentum and total kinetic energy will be conserved."
     ]
    },
    {
     "cell_type": "markdown",
     "metadata": {},
     "source": [
      "$$\\Delta KE = 0$$"
     ]
    },
    {
     "cell_type": "markdown",
     "metadata": {},
     "source": [
      "$$KE_i = KE_f$$"
     ]
    },
    {
     "cell_type": "markdown",
     "metadata": {},
     "source": [
      "$$\\frac{1}{2}m_2v_o^2 = \\frac{1}{2}m_2v_2^2+\\frac{1}{2}m_1v_1^2$$"
     ]
    },
    {
     "cell_type": "markdown",
     "metadata": {},
     "source": [
      "$$m_2v_o^2 = m_2v_2^2+m_1v_1^2$$"
     ]
    },
    {
     "cell_type": "markdown",
     "metadata": {},
     "source": [
      "We want v_o in terms of the kinetic energy the atom recoils with. We measure $v_1$ but we don't know $v_2$. We can solve for $v_2$ by using the conservation of momentum."
     ]
    },
    {
     "cell_type": "markdown",
     "metadata": {},
     "source": [
      "$$\\Delta P = 0$$"
     ]
    },
    {
     "cell_type": "markdown",
     "metadata": {},
     "source": [
      "$$P_i=P_f$$"
     ]
    },
    {
     "cell_type": "markdown",
     "metadata": {},
     "source": [
      "$$m_2v_o=m_2v_2+m_1v_1$$"
     ]
    },
    {
     "cell_type": "markdown",
     "metadata": {},
     "source": [
      "$$v_2=\\frac{m_2v_o-m_1v_1}{m_2}$$"
     ]
    },
    {
     "cell_type": "markdown",
     "metadata": {},
     "source": [
      "Now that we have $v_2$ in terms that we know, we canplug back into the equation above and solve for $v_o$"
     ]
    },
    {
     "cell_type": "markdown",
     "metadata": {},
     "source": [
      "$$m_2v_o^2=m_2(\\frac{m_2v_o-m_1v_1}{m_2})^2+m_1v_1^2$$"
     ]
    },
    {
     "cell_type": "markdown",
     "metadata": {},
     "source": [
      "$$v_o^2=\\frac{m_2^2v_o^2-2m_1v_1m_2v_o+m_1^2v_1^2}{m_2^2}+\\frac{m_1v_1^2}{m_2}$$"
     ]
    },
    {
     "cell_type": "markdown",
     "metadata": {},
     "source": [
      "$$v_o^2=v_o^2-\\frac{2m_1v_1v_o}{m_2}+\\frac{m_1^2v_1^2}{m_2^2}+\\frac{m_1v_1^2}{m_2}$$"
     ]
    },
    {
     "cell_type": "markdown",
     "metadata": {},
     "source": [
      "$$2m_1v_1v_o=\\frac{m_1^2v_1^2+m_2m_1v_1^2}{m_2}$$"
     ]
    },
    {
     "cell_type": "markdown",
     "metadata": {},
     "source": [
      "$$v_o=\\frac{m_1^2v_1^2+m_2m_1v_1^2}{2m_1v_1m_2}=\\frac{v_1^2m_1(m_1+m_2)}{2m_1v_1m_2}=v_1(\\frac{m_1+m_2}{2m_2})$$"
     ]
    },
    {
     "cell_type": "markdown",
     "metadata": {},
     "source": [
      "Since we measure the kinetic energy of the recoil of the atom, we can find $v_1$ in terms of $KE_1$"
     ]
    },
    {
     "cell_type": "markdown",
     "metadata": {},
     "source": [
      "$$KE_1=\\frac{1}{2}m_1v_1^2$$"
     ]
    },
    {
     "cell_type": "markdown",
     "metadata": {},
     "source": [
      "$$v_1=\\sqrt{\\frac{2KE_1}{m_1}}$$"
     ]
    },
    {
     "cell_type": "markdown",
     "metadata": {},
     "source": [
      "Plugging $v_1$ into our equation for $v_o$,"
     ]
    },
    {
     "cell_type": "markdown",
     "metadata": {},
     "source": [
      "$$v_o=(\\frac{m_1+m_2}{2m_2})\\sqrt{\\frac{2KE_1}{m_1}}$$"
     ]
    },
    {
     "cell_type": "markdown",
     "metadata": {},
     "source": [
      "$$=\\frac{1}{2}(\\frac{m_1}{m_2}+1)\\sqrt{\\frac{2KE_1}{m_1}}$$"
     ]
    },
    {
     "cell_type": "code",
     "collapsed": false,
     "input": [],
     "language": "python",
     "metadata": {},
     "outputs": []
    }
   ],
   "metadata": {}
  }
 ]
}