{
 "metadata": {
  "name": "",
  "signature": "sha256:f60f4de0b5edc882aaaa24f1c4cd45c5eac9588876c576d8b93f3dc3a1777df4"
 },
 "nbformat": 3,
 "nbformat_minor": 0,
 "worksheets": []
}