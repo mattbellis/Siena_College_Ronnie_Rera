{
 "metadata": {
  "name": "",
  "signature": "sha256:b2cba582276cf6b8948fb62c1ef389f73ed0d8903c92c51f71c6722591049e26"
 },
 "nbformat": 3,
 "nbformat_minor": 0,
 "worksheets": [
  {
   "cells": [
    {
     "cell_type": "code",
     "collapsed": false,
     "input": [
      "import numpy as np\n",
      "import matplotlib.pyplot as plt\n",
      "\n",
      "from scipy import optimize\n",
      "\n",
      "import lichen.lichen as lch\n",
      "\n",
      "%matplotlib inline\n",
      "\n",
      "################################################################################\n",
      "def mygauss(x,mu,sigma):\n",
      "    exponent = ((x-mu)**2)/(2*sigma**2)\n",
      "    a = 1.0/(sigma*np.sqrt(2*np.pi))\n",
      "    ret = a*np.exp(-exponent)\n",
      "    return ret\n",
      "\n",
      "################################################################################\n",
      "def pdf(p,x): # Probability distribution function\n",
      "    # p is an array of the parameters\n",
      "    # x is the data points\n",
      "    # So p[0] will be whatever you want.\n",
      "    # The functional form of your hypothesis (Gaussian).\n",
      "    ret = mygauss(x,p[0],p[1])\n",
      "    return ret\n",
      "\n",
      "################################################################################\n",
      "def negative_log_likelihood(p, x, y):\n",
      "    # Here you need to code up the sum of all of the negative log likelihoods (pdf)\n",
      "    # for each data point.\n",
      "    ret = np.sum(-1*np.log(pdf(p,x)))\n",
      "    return ret\n",
      "\n",
      "################################################################################\n",
      "# Generate some fake data points\n",
      "################################################################################\n",
      "mu = 5.0\n",
      "sigma = 0.5\n",
      "x = np.random.normal(mu,sigma,1000)\n",
      "plt.figure()\n",
      "lch.hist_err(x,bins=25)\n",
      "#print x\n",
      "\n",
      "# Now fit the data.\n",
      "params_starting_vals = [1.0,1.0]\n",
      "params_final_vals = optimize.fmin(negative_log_likelihood, params_starting_vals[:],args=(x,x),full_output=True)\n",
      "\n",
      "print \"Final values\"\n",
      "print params_final_vals\n",
      "fit_mu = params_final_vals[0][0]\n",
      "fit_sigma = params_final_vals[0][1]\n",
      "\n",
      "plt.show()\n"
     ],
     "language": "python",
     "metadata": {},
     "outputs": [
      {
       "output_type": "stream",
       "stream": "stdout",
       "text": [
        "Optimization terminated successfully.\n",
        "         Current function value: 681.868311\n",
        "         Iterations: 56\n",
        "         Function evaluations: 103\n",
        "Final values\n",
        "(array([ 5.00531289,  0.47847141]), 681.86831100958159, 56, 103, 0)\n"
       ]
      },
      {
       "metadata": {},
       "output_type": "display_data",
       "png": "[encoded data removed]",
       "text": [
        "<matplotlib.figure.Figure at 0x7f6fdd508d50>"
       ]
      }
     ],
     "prompt_number": 3
    },
    {
     "cell_type": "code",
     "collapsed": false,
     "input": [],
     "language": "python",
     "metadata": {},
     "outputs": []
    }
   ],
   "metadata": {}
  }
 ]
}