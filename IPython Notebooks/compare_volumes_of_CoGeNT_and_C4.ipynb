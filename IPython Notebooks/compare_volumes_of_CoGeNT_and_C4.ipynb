{
 "metadata": {
  "name": "",
  "signature": "sha256:06e67afc6945db2ed918a22c7253be6054e13af4d234a3c0c13f486cdec75a81"
 },
 "nbformat": 3,
 "nbformat_minor": 0,
 "worksheets": [
  {
   "cells": [
    {
     "cell_type": "markdown",
     "metadata": {},
     "source": [
      "Dimensions of CoGeNT\n",
      "\n",
      "<a href=\"http://arxiv.org/abs/1208.5737\">Long CoGeNT paper</a> for reference."
     ]
    },
    {
     "cell_type": "code",
     "collapsed": false,
     "input": [
      "rhoGe_g_cm3 = 5.2324 # g/cm^{-3}\n",
      "rhoGe = rhoGe_g_cm3 * 1e6 / 1000."
     ],
     "language": "python",
     "metadata": {},
     "outputs": [],
     "prompt_number": 1
    },
    {
     "cell_type": "code",
     "collapsed": false,
     "input": [
      "d0 = 60.5e-3 # 60.5 mm is the diameter, convert to meters\n",
      "r0 = d0/2 # Radius\n",
      "h0 = 31.0e-3 # 31 mm in meters\n",
      "dl0 = 1e-3   # Dead layer depth, 1mm in meters, outermost layer\n",
      "sl0 = 1e-3   # Surface layer depth, 1mm in meters, just inside dead layer"
     ],
     "language": "python",
     "metadata": {},
     "outputs": [],
     "prompt_number": 2
    },
    {
     "cell_type": "code",
     "collapsed": false,
     "input": [
      "V0tot = (np.pi*r0**2)*h0\n",
      "V0active = np.pi*((r0-dl0-sl0)**2)*(h0-(2*(dl0+sl0)))\n",
      "\n",
      "V0dead = V0tot - (np.pi*(r0-dl0)**2)*(h0-2*dl0)\n",
      "V0surf = V0tot - V0active - V0dead\n",
      "\n",
      "\n",
      "m0tot = V0tot*rhoGe\n",
      "m0active = V0active*rhoGe\n",
      "m0dead = V0dead*rhoGe\n",
      "m0surf = V0surf*rhoGe\n",
      "\n",
      "pct0 = []\n",
      "for m in [m0tot,m0active,m0dead,m0surf]:\n",
      "    pct0.append(m/m0tot)\n",
      "\n",
      "print \"Total   volume/mass: %f cm^3    %f kg    frac: %f\" % (V0tot*1e6,m0tot,pct0[0]) \n",
      "print \"Active  volume/mass: %f cm^3    %f kg    frac: %f\" % (V0active*1e6,m0active,pct0[1])\n",
      "print \"Dead    volume/mass: %f cm^3    %f kg    frac: %f\" % (V0dead*1e6,m0dead,pct0[2])\n",
      "print \"Surface volume/mass: %f cm^3    %f kg    frac: %f\" % (V0surf*1e6,m0surf,pct0[3])"
     ],
     "language": "python",
     "metadata": {},
     "outputs": [
      {
       "output_type": "stream",
       "stream": "stdout",
       "text": [
        "Total   volume/mass: 89.117362 cm^3    0.466298 kg    frac: 1.000000\n",
        "Active  volume/mass: 67.694057 cm^3    0.354202 kg    frac: 0.759606\n",
        "Dead    volume/mass: 11.170325 cm^3    0.058448 kg    frac: 0.125344\n",
        "Surface volume/mass: 10.252980 cm^3    0.053648 kg    frac: 0.115050\n"
       ]
      }
     ],
     "prompt_number": 7
    },
    {
     "cell_type": "markdown",
     "metadata": {},
     "source": [
      "Dimensions of C4 crystal (from Juan)"
     ]
    },
    {
     "cell_type": "code",
     "collapsed": false,
     "input": [
      "d1 = 92.1e-3 # 60.5 mm is the diameter, convert to meters\n",
      "r1 = d1/2 # Radius\n",
      "h1 = 36.6e-3 # 31 mm in meters\n",
      "dl1 = 0.7e-3   # Dead layer depth, 1mm in meters, outermost layer\n",
      "sl1 = 0.7e-3   # Surface layer depth, 1mm in meters, just inside dead layer"
     ],
     "language": "python",
     "metadata": {},
     "outputs": [],
     "prompt_number": 8
    },
    {
     "cell_type": "code",
     "collapsed": false,
     "input": [
      "V1tot = (np.pi*r1**2)*h1\n",
      "V1active = np.pi*((r1-dl1-sl1)**2)*(h1-(2*(dl1+sl1)))\n",
      "\n",
      "V1dead = V1tot - (np.pi*(r1-dl1)**2)*(h1-2*dl1)\n",
      "V1surf = V1tot - V1active - V1dead\n",
      "\n",
      "\n",
      "m1tot = V1tot*rhoGe\n",
      "m1active = V1active*rhoGe\n",
      "m1dead = V1dead*rhoGe\n",
      "m1surf = V1surf*rhoGe\n",
      "\n",
      "pct1 = []\n",
      "for m in [m1tot,m1active,m1dead,m1surf]:\n",
      "    pct1.append(m/m1tot)\n",
      "\n",
      "print \"Total   volume/mass: %f cm^3    %f kg    frac: %f\" % (V1tot*1e6,m1tot,pct1[0]) \n",
      "print \"Active  volume/mass: %f cm^3    %f kg    frac: %f\" % (V1active*1e6,m1active,pct1[1])\n",
      "print \"Dead    volume/mass: %f cm^3    %f kg    frac: %f\" % (V1dead*1e6,m1dead,pct1[2])\n",
      "print \"Surface volume/mass: %f cm^3    %f kg    frac: %f\" % (V1surf*1e6,m1surf,pct1[3])"
     ],
     "language": "python",
     "metadata": {},
     "outputs": [
      {
       "output_type": "stream",
       "stream": "stdout",
       "text": [
        "Total   volume/mass: 243.831734 cm^3    1.275825 kg    frac: 1.000000\n",
        "Active  volume/mass: 211.694463 cm^3    1.107670 kg    frac: 0.868199\n",
        "Dead    volume/mass: 16.402065 cm^3    0.085822 kg    frac: 0.067268\n",
        "Surface volume/mass: 15.735206 cm^3    0.082333 kg    frac: 0.064533\n"
       ]
      }
     ],
     "prompt_number": 9
    },
    {
     "cell_type": "code",
     "collapsed": false,
     "input": [
      "print \"Multiplicative increase in active volume: %f\" % (V1active/V0active)\n",
      "print \"Multiplicative increase in surface layer volume: %f\" % (V1surf/V0surf)"
     ],
     "language": "python",
     "metadata": {},
     "outputs": [
      {
       "output_type": "stream",
       "stream": "stdout",
       "text": [
        "Multiplicative increase in active volume: 3.127224\n",
        "Multiplicative increase in surface layer volume: 1.534696\n"
       ]
      }
     ],
     "prompt_number": 14
    },
    {
     "cell_type": "code",
     "collapsed": false,
     "input": [
      "print \"C4 factor for L-shells: %f\" % (V1active/V0active)\n",
      "print \"C4 factor for surf    : %f\" % (V1surf/V0surf)\n",
      "print \"C4 factor for neutrons: %f\" % (V1active/V0active)\n",
      "print \"C4 factor for comptons: %f\" % (0.2*V1active/V0active) # Estimate 20% of flux due to new location of electronics.\n",
      "print \"\\n\"\n",
      "print \"C4 factor for WIMP:     %f\" % (V1active/V0active)\n"
     ],
     "language": "python",
     "metadata": {},
     "outputs": [
      {
       "output_type": "stream",
       "stream": "stdout",
       "text": [
        "C4 factor for L-shells: 3.127224\n",
        "C4 factor for surf    : 1.534696\n",
        "C4 factor for neutrons: 3.127224\n",
        "C4 factor for comptons: 0.625445\n",
        "\n",
        "\n",
        "C4 factor for WIMP:     3.127224\n"
       ]
      }
     ],
     "prompt_number": 19
    },
    {
     "cell_type": "code",
     "collapsed": false,
     "input": [],
     "language": "python",
     "metadata": {},
     "outputs": []
    }
   ],
   "metadata": {}
  }
 ]
}