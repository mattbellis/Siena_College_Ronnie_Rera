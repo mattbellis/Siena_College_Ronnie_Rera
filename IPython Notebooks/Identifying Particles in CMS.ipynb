{
 "metadata": {
  "name": "",
  "signature": "sha256:462821517c70100b815b8eef9fbdca81d5f704e4e8b2db90e5489525bca674b2"
 },
 "nbformat": 3,
 "nbformat_minor": 0,
 "worksheets": [
  {
   "cells": [
    {
     "cell_type": "markdown",
     "metadata": {},
     "source": [
      "Particles in the CMS detector are all classified as Pions. The need to individually identify particles is not needed for the physics the detector was designed to recreate. However one way particles might be identified is by the energy they deposit in the detector's tracker. CMS's silicon tracker consists of 13 layers [1]. The first three make up the pixel layer located at 4.2cm < r < 11cm. 66 million pixels 285$\\mu$m thick make up this layer [2]. The strip tracker follows after the pixel layer and is made of 9.6 million pixels in two parts, the inner and outer barrel [3]. The first four layers are the inner barrel located at 25cm < r < 55cm containing pixels 320$\\mu$m thick [3]. The next six layers are the outer barrel located at 55cm < r < 116cm with pixels 500$\\mu$m thick [3]."
     ]
    },
    {
     "cell_type": "markdown",
     "metadata": {},
     "source": [
      "As particles pass through the pixel layers in the tracker they deposit some energy. This energy can be calculated using the Bethe formula which gives the rate of loss of energy as a function of momentum for a particle passing through a medium [4]. The energy deposited for an incident particle of mass M is found by multiplying the bethe equation by dx, the thickness of the pixel layer, and by the density of silicon. The rate of energy lost over the range dx is relativly constant, allowing us to multiply the Bethe formula by dx rather than integrating. The incident particle loses momentum as it passes through each layer. The energy deposited and its speed beta was calculated after passing through each layer. Particles of different mass will deposit different amounts of energy and therefore change speed differently. The time it takes to pass through each layer should then vary depending on the type of particle, possibly allowing a way to identify particles in CMS.  "
     ]
    },
    {
     "cell_type": "markdown",
     "metadata": {},
     "source": [
      "Results:\n",
      "The difference in time it takes for a 50 GeV/c proton to pass through the tracker compared to a 50 GeV/c pion is about 0.6ps. The CMS tracker may not have the time resolution in order to use this time difference and distinguish between particles. The difference in energy deposited in the tracker between a pion and a proton however is up to 1.3 MeV. "
     ]
    },
    {
     "cell_type": "markdown",
     "metadata": {},
     "source": [
      "References\n",
      "\n",
      "[1]. https://en.wikipedia.org/?title=Compact_Muon_Solenoid\n",
      "    \n",
      "[2]. http://arxiv.org/pdf/1402.0675v1.pdf\n",
      "\n",
      "[3]. http://arxiv.org/pdf/1405.6569v2.pdf\n",
      "\n",
      "[4]. http://pdg.lbl.gov/2014/reviews/rpp2014-rev-passage-particles-matter.pdf"
     ]
    }
   ],
   "metadata": {}
  }
 ]
}