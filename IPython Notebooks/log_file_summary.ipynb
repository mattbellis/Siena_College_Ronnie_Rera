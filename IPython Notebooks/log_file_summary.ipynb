{
 "metadata": {
  "name": "",
  "signature": "sha256:8c6bf7b5405de8e4d5e3f6638298887736bc06da7543befd236ecbca07a60c19"
 },
 "nbformat": 3,
 "nbformat_minor": 0,
 "worksheets": [
  {
   "cells": [
    {
     "cell_type": "code",
     "collapsed": false,
     "input": [
      "import numpy as np\n",
      "import matplotlib.pyplot as plt\n",
      "%matplotlib inline"
     ],
     "language": "python",
     "metadata": {},
     "outputs": [],
     "prompt_number": 1
    },
    {
     "cell_type": "code",
     "collapsed": false,
     "input": [
      "a=np.loadtxt('log_file_summary.dat')\n",
      "print a\n",
      "surface0 = a[:,0]\n",
      "neutron0 = a[:,1]\n",
      "compton0 = a[:,2]\n",
      "lshell0 = a[:,3]\n",
      "\n",
      "ls_ncalc2 = a[:,4]\n",
      "ls_ncalc2_uncer = a[:,5]\n",
      "ls_ncalc3 = a[:,6]\n",
      "ls_ncalc3_uncer = a[:,7]\n",
      "num_neutrons = a[:,8]\n",
      "num_neutrons_uncer = a[:,9]\n",
      "t_surf = a[:,10]\n",
      "t_surf_uncer = a[:,11]\n",
      "k1_surf = a[:,12]\n",
      "k1_surf_uncer = a[:,13]\n",
      "t_exp_flat = a[:,14]\n",
      "t_exp_flat_uncer = a[:,15]\n",
      "num_surf = a[:,16]\n",
      "num_surf_uncer = a[:,17]\n",
      "num_comp = a[:,18]\n",
      "num_comp_uncer = a[:,19]\n",
      "e_exp_flat = a[:,20]\n",
      "e_exp_flat_uncer = a[:,21]\n",
      "#print num_surf\n",
      "#print num_surf_uncer\n",
      "type(num_surf)\n",
      "print len(surface0)\n",
      "print len(num_surf)"
     ],
     "language": "python",
     "metadata": {},
     "outputs": [
      {
       "output_type": "stream",
       "stream": "stdout",
       "text": [
        "[[  4.09600000e+03   8.36000000e+02   2.26300000e+03 ...,   1.78959300e+02\n",
        "    0.00000000e+00   1.36900000e-01]\n",
        " [  4.17700000e+03   8.79000000e+02   2.34100000e+03 ...,   7.64903000e+01\n",
        "    1.11000000e-01   3.10000000e-02]\n",
        " [  4.17500000e+03   8.37000000e+02   2.25600000e+03 ...,   7.59513000e+01\n",
        "    9.46000000e-02   3.08000000e-02]\n",
        " ..., \n",
        " [  4.53100000e+03   8.88000000e+02   2.23300000e+03 ...,   9.37744000e+01\n",
        "    4.49000000e-02   3.29000000e-02]\n",
        " [  4.53000000e+03   8.51000000e+02   2.33800000e+03 ...,   7.88313000e+01\n",
        "    9.34000000e-02   3.12000000e-02]\n",
        " [  4.58500000e+03   8.70000000e+02   2.22300000e+03 ...,   7.10428000e+01\n",
        "    6.78000000e-02   3.23000000e-02]]\n",
        "1000\n",
        "1000\n"
       ]
      }
     ],
     "prompt_number": 2
    },
    {
     "cell_type": "code",
     "collapsed": false,
     "input": [
      "def hist_params(param,uncer,bin_num,range):\n",
      "    column1 = param[uncer==uncer]\n",
      "    column2 = uncer[uncer==uncer]\n",
      "    number = column1/column2\n",
      "    #print number\n",
      "    print min(column2),max(column2),len(column2),len(column2[column2!=column2]),column2[column2!=column2]\n",
      "    h = plt.hist(number,bins=bin_num,range=range)\n",
      "    print np.std(number[(number>range[0])*(number<range[1])])\n",
      "\n",
      "\n",
      "plt.figure()\n",
      "hist_params(num_surf-surface0,num_surf_uncer,50,(-1,5))\n",
      "\n",
      "plt.figure()\n",
      "hist_params(num_comp-compton0,num_comp_uncer,50,(-5,15))\n",
      "\n",
      "plt.figure()\n",
      "hist_params(num_neutrons-neutron0,num_neutrons_uncer,50,(-8,2))\n",
      "\n",
      "plt.figure()\n",
      "hist_params(ls_ncalc2,ls_ncalc2_uncer,50,(12,20))"
     ],
     "language": "python",
     "metadata": {},
     "outputs": [
      {
       "output_type": "stream",
       "stream": "stdout",
       "text": [
        "34.5984 15006.5326 1000 0 []\n",
        "0.54934707742"
       ]
      },
      {
       "output_type": "stream",
       "stream": "stdout",
       "text": [
        "\n",
        "30.7929 13835.5095 998 0 []\n",
        "3.81728231414"
       ]
      },
      {
       "output_type": "stream",
       "stream": "stdout",
       "text": [
        "\n",
        "31.2936 15041.6143 998 0 []\n",
        "1.24757573783"
       ]
      },
      {
       "output_type": "stream",
       "stream": "stdout",
       "text": [
        "\n",
        "16.4033 7503.7407 1000 0 []\n",
        "0.780814961767"
       ]
      },
      {
       "output_type": "stream",
       "stream": "stdout",
       "text": [
        "\n"
       ]
      },
      {
       "metadata": {},
       "output_type": "display_data",
       "png": "[encoded data removed]",
       "text": [
        "<matplotlib.figure.Figure at 0x7f78941850d0>"
       ]
      },
      {
       "metadata": {},
       "output_type": "display_data",
       "png": "[encoded data removed]",
       "text": [
        "<matplotlib.figure.Figure at 0x7f789413a610>"
       ]
      },
      {
       "metadata": {},
       "output_type": "display_data",
       "png": "[encoded data removed]",
       "text": [
        "<matplotlib.figure.Figure at 0x7f78940b4090>"
       ]
      },
      {
       "metadata": {},
       "output_type": "display_data",
       "png": "[encoded data removed]",
       "text": [
        "<matplotlib.figure.Figure at 0x7f7893f30410>"
       ]
      }
     ],
     "prompt_number": 3
    },
    {
     "cell_type": "code",
     "collapsed": false,
     "input": [
      "np.std(ls_ncalc2)"
     ],
     "language": "python",
     "metadata": {},
     "outputs": [
      {
       "metadata": {},
       "output_type": "pyout",
       "prompt_number": 4,
       "text": [
        "35.581033050401238"
       ]
      }
     ],
     "prompt_number": 4
    },
    {
     "cell_type": "code",
     "collapsed": false,
     "input": [
      "np.mean(ls_ncalc2_uncer[ls_ncalc2_uncer<50])"
     ],
     "language": "python",
     "metadata": {},
     "outputs": [
      {
       "metadata": {},
       "output_type": "pyout",
       "prompt_number": 5,
       "text": [
        "34.976252941176469"
       ]
      }
     ],
     "prompt_number": 5
    },
    {
     "cell_type": "code",
     "collapsed": false,
     "input": [
      "num_flat = num_neutrons+num_comp\n",
      "num_flat_org = neutron0+compton0"
     ],
     "language": "python",
     "metadata": {},
     "outputs": [],
     "prompt_number": 6
    },
    {
     "cell_type": "code",
     "collapsed": false,
     "input": [
      "plt.figure()\n",
      "plt.hist(num_flat-num_flat_org,bins=50)\n",
      "\n",
      "plt.figure()\n",
      "plt.hist(num_surf-surface0,bins=50)"
     ],
     "language": "python",
     "metadata": {},
     "outputs": [
      {
       "metadata": {},
       "output_type": "pyout",
       "prompt_number": 7,
       "text": [
        "(array([  1.,   0.,   0.,   1.,   0.,   0.,   0.,   1.,   3.,   3.,   1.,\n",
        "          4.,   4.,   6.,  11.,  16.,  21.,  20.,  19.,  27.,  29.,  40.,\n",
        "         42.,  46.,  58.,  55.,  50.,  44.,  63.,  46.,  42.,  49.,  53.,\n",
        "         42.,  28.,  41.,  28.,  29.,  18.,  14.,  12.,  10.,   2.,   3.,\n",
        "          4.,   4.,   1.,   2.,   3.,   4.]),\n",
        " array([  32.8636 ,   37.41425,   41.9649 ,   46.51555,   51.0662 ,\n",
        "          55.61685,   60.1675 ,   64.71815,   69.2688 ,   73.81945,\n",
        "          78.3701 ,   82.92075,   87.4714 ,   92.02205,   96.5727 ,\n",
        "         101.12335,  105.674  ,  110.22465,  114.7753 ,  119.32595,\n",
        "         123.8766 ,  128.42725,  132.9779 ,  137.52855,  142.0792 ,\n",
        "         146.62985,  151.1805 ,  155.73115,  160.2818 ,  164.83245,\n",
        "         169.3831 ,  173.93375,  178.4844 ,  183.03505,  187.5857 ,\n",
        "         192.13635,  196.687  ,  201.23765,  205.7883 ,  210.33895,\n",
        "         214.8896 ,  219.44025,  223.9909 ,  228.54155,  233.0922 ,\n",
        "         237.64285,  242.1935 ,  246.74415,  251.2948 ,  255.84545,\n",
        "         260.3961 ]),\n",
        " <a list of 50 Patch objects>)"
       ]
      },
      {
       "metadata": {},
       "output_type": "display_data",
       "png": "[encoded data removed]",
       "text": [
        "<matplotlib.figure.Figure at 0x7f7894177850>"
       ]
      },
      {
       "metadata": {},
       "output_type": "display_data",
       "png": "[encoded data removed]",
       "text": [
        "<matplotlib.figure.Figure at 0x7f78941461d0>"
       ]
      }
     ],
     "prompt_number": 7
    },
    {
     "cell_type": "markdown",
     "metadata": {},
     "source": [
      "It looks like, on average, events are being pulled from either the neutrons or comptons and put into the surface events. "
     ]
    },
    {
     "cell_type": "code",
     "collapsed": false,
     "input": [],
     "language": "python",
     "metadata": {},
     "outputs": [],
     "prompt_number": 7
    }
   ],
   "metadata": {}
  }
 ]
}