{
 "metadata": {
  "name": "",
  "signature": "sha256:29adaddd56d9a41a7c89a89301c946a8b69a95f11a421323dccc9fd28322d346"
 },
 "nbformat": 3,
 "nbformat_minor": 0,
 "worksheets": [
  {
   "cells": [
    {
     "cell_type": "code",
     "collapsed": false,
     "input": [
      "import numpy as np\n",
      "import matplotlib.pyplot as plt\n",
      "%matplotlib inline"
     ],
     "language": "python",
     "metadata": {},
     "outputs": [],
     "prompt_number": 1
    },
    {
     "cell_type": "code",
     "collapsed": false,
     "input": [
      "a=np.loadtxt('log_file_summary.dat')\n",
      "print a\n",
      "ls_ncalc2 = a[:,0]\n",
      "ls_ncalc2_uncer = a[:,1]\n",
      "ls_ncalc3 = a[:,2]\n",
      "ls_ncalc3_uncer = a[:,3]\n",
      "num_neutrons = a[:,4]\n",
      "num_neutrons_uncer = a[:,5]\n",
      "t_surf = a[:,6]\n",
      "t_surf_uncer = a[:,7]\n",
      "k1_surf = a[:,8]\n",
      "k1_surf_uncer = a[:,9]\n",
      "t_exp_flat = a[:,10]\n",
      "t_exp_flat_uncer = a[:,11]\n",
      "num_surf = a[:,12]\n",
      "num_surf_uncer = a[:,13]\n",
      "num_comp = a[:,14]\n",
      "num_comp_uncer = a[:,15]\n",
      "e_exp_flat = a[:,16]\n",
      "e_exp_flat_uncer = a[:,17]\n",
      "#print num_surf\n",
      "#print num_surf_uncer\n",
      "type(num_surf)"
     ],
     "language": "python",
     "metadata": {},
     "outputs": [
      {
       "output_type": "stream",
       "stream": "stdout",
       "text": [
        "[[  5.39078500e+02   3.24512000e+01   1.65062500e+02 ...,   1.26413700e+02\n",
        "    1.00000000e-04   1.54000000e-02]\n",
        " [  5.71310800e+02   3.36330000e+01   2.10093600e+02 ...,   1.63832800e+02\n",
        "    0.00000000e+00   8.46000000e-02]\n",
        " [  5.12659300e+02   3.19713000e+01   2.35106700e+02 ...,   1.59046100e+02\n",
        "    0.00000000e+00   2.28000000e-02]\n",
        " ..., \n",
        " [  5.74513000e+02   3.38180000e+01   1.88938900e+02 ...,   2.56264200e+02\n",
        "    6.30000000e-03   1.28100000e-01]\n",
        " [  6.28881100e+02   3.54054000e+01   1.68260200e+02 ...,   1.75569300e+02\n",
        "    0.00000000e+00   3.10000000e-03]\n",
        " [  5.81880000e+02   3.51990000e+01   1.38510800e+02 ...,   6.87093100e+02\n",
        "    4.76000000e-02   1.42600000e-01]]\n"
       ]
      },
      {
       "metadata": {},
       "output_type": "pyout",
       "prompt_number": 3,
       "text": [
        "numpy.ndarray"
       ]
      }
     ],
     "prompt_number": 3
    },
    {
     "cell_type": "code",
     "collapsed": false,
     "input": [
      "def hist_params(param,uncer,bin_num,range):\n",
      "    column1 = param[uncer==uncer]\n",
      "    column2 = uncer[uncer==uncer]\n",
      "    number = column1/column2\n",
      "    #print number\n",
      "    print min(column2),max(column2),len(column2),len(column2[column2!=column2]),column2[column2!=column2]\n",
      "    h = plt.hist(number,bins=bin_num,range=range)\n",
      "    print np.std(number[(number>range[0])*(number<range[1])])\n",
      "\n",
      "\n",
      "plt.figure()\n",
      "hist_params(num_surf,num_surf_uncer,50,(56,61))\n",
      "\n",
      "plt.figure()\n",
      "hist_params(num_comp,num_comp_uncer,50,(0,50))\n",
      "\n",
      "plt.figure()\n",
      "hist_params(num_neutrons,num_neutrons_uncer,50,(0,10))\n",
      "\n",
      "plt.figure()\n",
      "hist_params(ls_ncalc2,ls_ncalc2_uncer,50,(12,20))"
     ],
     "language": "python",
     "metadata": {},
     "outputs": [
      {
       "output_type": "stream",
       "stream": "stdout",
       "text": [
        "26.1048 13574.6426 999 0 []\n",
        "0.705432365167"
       ]
      },
      {
       "output_type": "stream",
       "stream": "stdout",
       "text": [
        "\n",
        "22.6943 12384.2946 994 0 []\n",
        "13.7919574575"
       ]
      },
      {
       "output_type": "stream",
       "stream": "stdout",
       "text": [
        "\n",
        "23.4268 63185.4315 992 0 []\n",
        "1.45422133027"
       ]
      },
      {
       "output_type": "stream",
       "stream": "stdout",
       "text": [
        "\n",
        "12.0944 7258.6811 999 0 []\n",
        "0.803037285805"
       ]
      },
      {
       "output_type": "stream",
       "stream": "stdout",
       "text": [
        "\n"
       ]
      },
      {
       "metadata": {},
       "output_type": "display_data",
       "png": "[encoded data removed]",
       "text": [
        "<matplotlib.figure.Figure at 0x7f382c05bfd0>"
       ]
      },
      {
       "metadata": {},
       "output_type": "display_data",
       "png": "[encoded data removed]",
       "text": [
        "<matplotlib.figure.Figure at 0x7f382c33b0d0>"
       ]
      },
      {
       "metadata": {},
       "output_type": "display_data",
       "png": "[encoded data removed]",
       "text": [
        "<matplotlib.figure.Figure at 0x7f382c0b4110>"
       ]
      },
      {
       "metadata": {},
       "output_type": "display_data",
       "png": "[encoded data removed]",
       "text": [
        "<matplotlib.figure.Figure at 0x7f382c807fd0>"
       ]
      }
     ],
     "prompt_number": 7
    },
    {
     "cell_type": "code",
     "collapsed": false,
     "input": [],
     "language": "python",
     "metadata": {},
     "outputs": []
    }
   ],
   "metadata": {}
  }
 ]
}