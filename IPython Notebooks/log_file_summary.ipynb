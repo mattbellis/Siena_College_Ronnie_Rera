{
 "metadata": {
  "name": "",
  "signature": "sha256:c6da4d5317291f61873429666e6f69593366eb98d1fe46d5abe0fb549ecd7245"
 },
 "nbformat": 3,
 "nbformat_minor": 0,
 "worksheets": [
  {
   "cells": [
    {
     "cell_type": "code",
     "collapsed": false,
     "input": [
      "import numpy as np\n",
      "import matplotlib.pyplot as plt\n",
      "%matplotlib inline"
     ],
     "language": "python",
     "metadata": {},
     "outputs": [],
     "prompt_number": 20
    },
    {
     "cell_type": "code",
     "collapsed": false,
     "input": [
      "a=np.loadtxt('log_file_summary.dat')\n",
      "print a\n",
      "surface0 = a[:,0]\n",
      "neutron0 = a[:,1]\n",
      "compton0 = a[:,2]\n",
      "lshell0 = a[:,3]\n",
      "\n",
      "ls_ncalc2 = a[:,4]\n",
      "ls_ncalc2_uncer = a[:,5]\n",
      "ls_ncalc3 = a[:,6]\n",
      "ls_ncalc3_uncer = a[:,7]\n",
      "num_neutrons = a[:,8]\n",
      "num_neutrons_uncer = a[:,9]\n",
      "t_surf = a[:,10]\n",
      "t_surf_uncer = a[:,11]\n",
      "k1_surf = a[:,12]\n",
      "k1_surf_uncer = a[:,13]\n",
      "t_exp_flat = a[:,14]\n",
      "t_exp_flat_uncer = a[:,15]\n",
      "num_surf = a[:,16]\n",
      "num_surf_uncer = a[:,17]\n",
      "num_comp = a[:,18]\n",
      "num_comp_uncer = a[:,19]\n",
      "e_exp_flat = a[:,20]\n",
      "e_exp_flat_uncer = a[:,21]\n",
      "#print num_surf\n",
      "#print num_surf_uncer\n",
      "type(num_surf)\n",
      "print len(surface0)\n",
      "print len(num_surf)"
     ],
     "language": "python",
     "metadata": {},
     "outputs": [
      {
       "output_type": "stream",
       "stream": "stdout",
       "text": [
        "[[  4.52700000e+03   9.20000000e+02   2.48000000e+03 ...,   1.78959300e+02\n",
        "    0.00000000e+00   1.36900000e-01]\n",
        " [  4.59700000e+03   9.52000000e+02   2.59300000e+03 ...,   7.64903000e+01\n",
        "    1.11000000e-01   3.10000000e-02]\n",
        " [  4.61100000e+03   9.26000000e+02   2.50700000e+03 ...,   7.59513000e+01\n",
        "    9.46000000e-02   3.08000000e-02]\n",
        " ..., \n",
        " [  4.76900000e+03   8.87000000e+02   2.54100000e+03 ...,   7.35341400e+02\n",
        "    3.98000000e-02   1.40100000e-01]\n",
        " [  4.77600000e+03   9.89000000e+02   2.48200000e+03 ...,   8.28859000e+01\n",
        "    1.20500000e-01   3.13000000e-02]\n",
        " [  4.78300000e+03   9.64000000e+02   2.50600000e+03 ...,   1.77665600e+02\n",
        "    0.00000000e+00   1.49400000e-01]]\n",
        "464\n",
        "464\n"
       ]
      }
     ],
     "prompt_number": 21
    },
    {
     "cell_type": "code",
     "collapsed": false,
     "input": [
      "def hist_params(param,uncer,bin_num,range):\n",
      "    column1 = param[uncer==uncer]\n",
      "    column2 = uncer[uncer==uncer]\n",
      "    number = column1/column2\n",
      "    #print number\n",
      "    print min(column2),max(column2),len(column2),len(column2[column2!=column2]),column2[column2!=column2]\n",
      "    h = plt.hist(number,bins=bin_num,range=range)\n",
      "    print np.std(number[(number>range[0])*(number<range[1])])\n",
      "\n",
      "\n",
      "plt.figure()\n",
      "hist_params(num_surf-surface0,num_surf_uncer,50,(-5,5))\n",
      "\n",
      "plt.figure()\n",
      "hist_params(num_comp-compton0,num_comp_uncer,50,(-5,10))\n",
      "\n",
      "plt.figure()\n",
      "hist_params(num_neutrons-neutron0,num_neutrons_uncer,50,(-10,2))\n",
      "\n",
      "plt.figure()\n",
      "hist_params(ls_ncalc2,ls_ncalc2_uncer,50,(12,20))"
     ],
     "language": "python",
     "metadata": {},
     "outputs": [
      {
       "output_type": "stream",
       "stream": "stdout",
       "text": [
        "70.4415 13389.2865 464 0 []\n",
        "0.680352589843"
       ]
      },
      {
       "output_type": "stream",
       "stream": "stdout",
       "text": [
        "\n",
        "47.5914 11464.2969 463 0 []\n",
        "2.99818980504"
       ]
      },
      {
       "output_type": "stream",
       "stream": "stdout",
       "text": [
        "\n",
        "33.2566 11929.3547 463 0 []\n",
        "1.34488771788"
       ]
      },
      {
       "output_type": "stream",
       "stream": "stdout",
       "text": [
        "\n",
        "24.1996 7375.481 464 0 []\n",
        "0.806560020182"
       ]
      },
      {
       "output_type": "stream",
       "stream": "stdout",
       "text": [
        "\n"
       ]
      },
      {
       "metadata": {},
       "output_type": "display_data",
       "png": "[encoded data removed]",
       "text": [
        "<matplotlib.figure.Figure at 0x7f290c558610>"
       ]
      },
      {
       "metadata": {},
       "output_type": "display_data",
       "png": "[encoded data removed]",
       "text": [
        "<matplotlib.figure.Figure at 0x7f290bf6c250>"
       ]
      },
      {
       "metadata": {},
       "output_type": "display_data",
       "png": "[encoded data removed]",
       "text": [
        "<matplotlib.figure.Figure at 0x7f290c116ad0>"
       ]
      },
      {
       "metadata": {},
       "output_type": "display_data",
       "png": "[encoded data removed]",
       "text": [
        "<matplotlib.figure.Figure at 0x7f290cbf7a90>"
       ]
      }
     ],
     "prompt_number": 23
    },
    {
     "cell_type": "code",
     "collapsed": false,
     "input": [],
     "language": "python",
     "metadata": {},
     "outputs": [],
     "prompt_number": 19
    },
    {
     "cell_type": "code",
     "collapsed": false,
     "input": [],
     "language": "python",
     "metadata": {},
     "outputs": []
    }
   ],
   "metadata": {}
  }
 ]
}