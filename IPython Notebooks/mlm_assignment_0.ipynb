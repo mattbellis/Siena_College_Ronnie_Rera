{
 "metadata": {
  "name": "",
  "signature": "sha256:962be67ee9713f50e81e11ee8272a517999fa680177b002acec4f1e754ffdfdb"
 },
 "nbformat": 3,
 "nbformat_minor": 0,
 "worksheets": [
  {
   "cells": [
    {
     "cell_type": "markdown",
     "metadata": {},
     "source": [
      "Suppose I make a measurement of some physical process, for instance, the invariant mass spectrum of some particle physics process. \n",
      "\n",
      "There is some background, represented by a falling exponential, and some signal represented by a Gaussian function.\n",
      "\n",
      "Let me generate some fake data to represent this. "
     ]
    },
    {
     "cell_type": "code",
     "collapsed": false,
     "input": [
      "import matplotlib.pylab as plt\n",
      "import numpy as np\n",
      "from scipy import optimize\n",
      "import lichen.lichen as lch\n",
      "%matplotlib inline\n",
      "data = None\n",
      "\n",
      "# Generate the background events.\n",
      "nbkg_generated = 100000\n",
      "beta = 2.0\n",
      "# Note that this actually goes into the function as -beta (negative value)\n",
      "x = np.random.exponential(scale=beta,size=nbkg_generated)\n",
      "\n",
      "x = x[x<10]\n",
      "print \"Actual number of background events generated: %d\" % (len(x))\n",
      "\n",
      "data = x.copy()\n",
      "\n",
      "# Generate the background events.\n",
      "nsig_generated = 1000\n",
      "mu = 2.0\n",
      "sigma = 0.1\n",
      "# Note that this actually goes into the function as -beta (negative value)\n",
      "x = np.random.normal(loc=mu,scale=sigma,size=nsig_generated)\n",
      "\n",
      "x = x[x<10]\n",
      "print \"Actual number of signal events generated: %d\" % (len(x))\n",
      "\n",
      "data = np.append(data,x)\n",
      "\n",
      "print \"Total data events: %d\" % (len(data))"
     ],
     "language": "python",
     "metadata": {},
     "outputs": [
      {
       "output_type": "stream",
       "stream": "stdout",
       "text": [
        "Actual number of background events generated: 99380\n",
        "Actual number of signal events generated: 1000\n",
        "Total data events: 100380\n"
       ]
      }
     ],
     "prompt_number": 59
    },
    {
     "cell_type": "code",
     "collapsed": false,
     "input": [
      "h = plt.hist(data,bins=100)"
     ],
     "language": "python",
     "metadata": {},
     "outputs": [
      {
       "metadata": {},
       "output_type": "display_data",
       "png": "[encoded data removed]",
       "text": [
        "<matplotlib.figure.Figure at 0x7f5223b014d0>"
       ]
      }
     ],
     "prompt_number": 60
    },
    {
     "cell_type": "markdown",
     "metadata": {},
     "source": [
      "Your job is to write a piece of code that uses the Maximum Likelihood Method (MLM) to fit for\n",
      "* beta (slope) of the exponential background\n",
      "* mean of the Gaussian signal\n",
      "* width of the Gaussian signal\n",
      "* number of signal events\n",
      "* number of background events\n",
      "\n",
      "You can start with your example MLM code from your previous exercise. \n",
      "\n",
      "This problem is a bit different because you have *two* different physics process contributing. I'll give you a hint: you'll need to determine the probability that a given events comes from *either* the background *or* the signal process. \n",
      "\n",
      "I'll give you little roadmap below of the functions you'll need to write. Again, refer to your previous activity for guidance.\n",
      "\n",
      "Good luck!"
     ]
    },
    {
     "cell_type": "code",
     "collapsed": false,
     "input": [
      "#############################################################\n",
      "# Your code below\n",
      "#############################################################\n",
      "\n",
      "def mygauss(data,mu,sigma):\n",
      "    exponent = ((data-mu)**2)/(2*sigma**2)\n",
      "    a = 1.0/(sigma*np.sqrt(2*np.pi))\n",
      "    ret = a*np.exp(-exponent)\n",
      "    return ret\n",
      "\n",
      "def myexp(data,beta):\n",
      "    ret = (1/beta)*np.exp(-(1./beta)*data)\n",
      "    return ret\n",
      "\n",
      "# Signal PDF, make sure this is normalized to 1\n",
      "def signal_pdf(p,data):\n",
      "    ret = mygauss(data,p[0],p[1])\n",
      "    return ret\n",
      "    \n",
      "# Background PDF, make sure this is normalized to 1\n",
      "def background_pdf(p,data):\n",
      "    ret = myexp(data,p[2])\n",
      "    return ret \n",
      "\n",
      "\n",
      "# Total PDF\n",
      "def total_pdf(p,data):\n",
      "    ret = signal_pdf(p,data)*(p[3]/len(data))+background_pdf(p,data)*(1-(p[3]/len(data)))\n",
      "    return ret \n",
      "\n",
      "def negative_log_likelihood(p, data, y):\n",
      "    ret = np.sum(-1*np.log(total_pdf(p,data)))          \n",
      "    return ret\n",
      "\n",
      "\n",
      "#############################################################\n",
      "# Main code here\n",
      "#############################################################\n",
      "\n",
      "nbins = 50\n",
      "\n",
      "plt.figure()\n",
      "lch.hist_err(data,bins=nbins)\n",
      "\n",
      "print \"Total data events: %d\" % (len(data))\n",
      "# Now fit the data.\n",
      "\n",
      "params_starting_vals = [1.0,1.0,1.0,400.]\n",
      "params_final_vals = optimize.fmin(negative_log_likelihood, params_starting_vals[:],args=(data,data),full_output=True,xtol=0.0001,maxfun=2000)\n",
      "\n",
      "print \"Final values\"\n",
      "print params_final_vals\n",
      "fit_mu = params_final_vals[0][0]\n",
      "fit_sigma = params_final_vals[0][1]\n",
      "fit_beta = params_final_vals[0][2]\n",
      "fit_nsig = params_final_vals[0][3]\n",
      "\n",
      "print \"mu:    %f   %f\" % (fit_mu,mu)\n",
      "print \"sigma: %f   %f\" % (fit_sigma,sigma)\n",
      "print \"beta:  %f   %f\" % (fit_beta,beta)\n",
      "print \"nsig:  %f   %f\" % (fit_nsig,nsig_generated)\n",
      "\n",
      "xpts = np.arange(0,10,0.1)\n",
      "signal_fit = mygauss(xpts,fit_mu,fit_sigma)\n",
      "original_signal = mygauss(xpts,mu,sigma)\n",
      "bkg_fit = myexp(xpts,fit_beta)\n",
      "original_bkg = myexp(xpts,beta)\n",
      "\n",
      "\n",
      "ndata = len(data)\n",
      "nsig = fit_nsig\n",
      "\n",
      "scale_bkg = (ndata-nsig)*(max(data)-min(data))/nbins\n",
      "scale_sig = (nsig)*(max(data)-min(data))/nbins\n",
      "\n",
      "ysig = scale_sig*signal_fit\n",
      "ybkg = scale_bkg*bkg_fit\n",
      "\n",
      "ytot = ysig + ybkg\n",
      "\n",
      "plt.plot(xpts,ysig)\n",
      "plt.plot(xpts,ybkg)\n",
      "plt.plot(xpts,ytot)\n",
      "\n",
      "plt.show()"
     ],
     "language": "python",
     "metadata": {},
     "outputs": [
      {
       "output_type": "stream",
       "stream": "stdout",
       "text": [
        "Total data events: 100380\n",
        "Optimization terminated successfully."
       ]
      },
      {
       "output_type": "stream",
       "stream": "stdout",
       "text": [
        "\n",
        "         Current function value: 166143.027469\n",
        "         Iterations: 372\n",
        "         Function evaluations: 643\n",
        "Final values\n",
        "(array([  1.99816185e+00,   1.32420739e-01,   1.92615517e+00,\n",
        "         1.32300550e+03]), 166143.02746850133, 372, 643, 0)\n",
        "mu:    1.998162   2.000000\n",
        "sigma: 0.132421   0.100000\n",
        "beta:  1.926155   2.000000\n",
        "nsig:  1323.005500   1000.000000\n"
       ]
      },
      {
       "metadata": {},
       "output_type": "display_data",
       "png": "[encoded data removed]",
       "text": [
        "<matplotlib.figure.Figure at 0x7f5223484c90>"
       ]
      }
     ],
     "prompt_number": 61
    },
    {
     "cell_type": "code",
     "collapsed": false,
     "input": [],
     "language": "python",
     "metadata": {},
     "outputs": [],
     "prompt_number": 44
    },
    {
     "cell_type": "code",
     "collapsed": false,
     "input": [],
     "language": "python",
     "metadata": {},
     "outputs": [],
     "prompt_number": 34
    },
    {
     "cell_type": "code",
     "collapsed": false,
     "input": [],
     "language": "python",
     "metadata": {},
     "outputs": []
    }
   ],
   "metadata": {}
  }
 ]
}