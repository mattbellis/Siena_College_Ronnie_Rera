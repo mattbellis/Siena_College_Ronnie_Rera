{
 "metadata": {
  "name": "",
  "signature": "sha256:083755e1347f6a7af8907788c2e4e6ce17e9236cac04df300bbabe8d6669f651"
 },
 "nbformat": 3,
 "nbformat_minor": 0,
 "worksheets": [
  {
   "cells": [
    {
     "cell_type": "markdown",
     "metadata": {},
     "source": [
      "Suppose I make a measurement of some physical process, for instance, the invariant mass spectrum of some particle physics process. \n",
      "\n",
      "There is some background, represented by a falling exponential, and some signal represented by a Gaussian function.\n",
      "\n",
      "Let me generate some fake data to represent this. "
     ]
    },
    {
     "cell_type": "code",
     "collapsed": false,
     "input": [
      "import matplotlib.pylab as plt\n",
      "import numpy as np\n",
      "from scipy import optimize\n",
      "import lichen.lichen as lch\n",
      "%matplotlib inline\n",
      "data = None\n",
      "\n",
      "# Generate the background events.\n",
      "nbkg_generated = 10000\n",
      "beta = 2.0\n",
      "# Note that this actually goes into the function as -beta (negative value)\n",
      "x = np.random.exponential(scale=beta,size=nbkg_generated)\n",
      "\n",
      "x = x[x<10]\n",
      "print \"Actual number of background events generated: %d\" % (len(x))\n",
      "\n",
      "data = x.copy()\n",
      "\n",
      "# Generate the background events.\n",
      "nsig_generated = 800\n",
      "mean = 2.0\n",
      "width = 0.2\n",
      "# Note that this actually goes into the function as -beta (negative value)\n",
      "x = np.random.normal(loc=mean,scale=width,size=nsig_generated)\n",
      "\n",
      "x = x[x<10]\n",
      "print \"Actual number of signal events generated: %d\" % (len(x))\n",
      "\n",
      "data = np.append(data,x)\n",
      "\n",
      "print \"Total data events: %d\" % (len(data))"
     ],
     "language": "python",
     "metadata": {},
     "outputs": [
      {
       "output_type": "stream",
       "stream": "stdout",
       "text": [
        "Actual number of background events generated: 9925\n",
        "Actual number of signal events generated: 800\n",
        "Total data events: 10725\n"
       ]
      }
     ],
     "prompt_number": 1
    },
    {
     "cell_type": "code",
     "collapsed": false,
     "input": [
      "h = plt.hist(data,bins=100)"
     ],
     "language": "python",
     "metadata": {},
     "outputs": [
      {
       "metadata": {},
       "output_type": "display_data",
       "png": "[encoded data removed]",
       "text": [
        "<matplotlib.figure.Figure at 0x7f95e4db4990>"
       ]
      }
     ],
     "prompt_number": 2
    },
    {
     "cell_type": "markdown",
     "metadata": {},
     "source": [
      "Your job is to write a piece of code that uses the Maximum Likelihood Method (MLM) to fit for\n",
      "* beta (slope) of the exponential background\n",
      "* mean of the Gaussian signal\n",
      "* width of the Gaussian signal\n",
      "* number of signal events\n",
      "* number of background events\n",
      "\n",
      "You can start with your example MLM code from your previous exercise. \n",
      "\n",
      "This problem is a bit different because you have *two* different physics process contributing. I'll give you a hint: you'll need to determine the probability that a given events comes from *either* the background *or* the signal process. \n",
      "\n",
      "I'll give you little roadmap below of the functions you'll need to write. Again, refer to your previous activity for guidance.\n",
      "\n",
      "Good luck!"
     ]
    },
    {
     "cell_type": "code",
     "collapsed": false,
     "input": [
      "#############################################################\n",
      "# Your code below\n",
      "#############################################################\n",
      "\n",
      "def mygauss(data,mu,sigma):\n",
      "    exponent = ((data-mu)**2)/(2*sigma**2)\n",
      "    a = 1.0/(sigma*np.sqrt(2*np.pi))\n",
      "    ret = a*np.exp(-exponent)\n",
      "    return ret\n",
      "\n",
      "def myexp(data,beta):\n",
      "    ret = beta*np.exp(-beta*data)\n",
      "    return ret\n",
      "\n",
      "# Signal PDF, make sure this is normalized to 1\n",
      "def signal_pdf(p,data):\n",
      "    ret = mygauss(data,p[0],p[1])\n",
      "    return ret\n",
      "    \n",
      "# Background PDF, make sure this is normalized to 1\n",
      "def background_pdf(p,data):\n",
      "    ret = myexp(data,p[2])\n",
      "    return ret \n",
      "\n",
      "\n",
      "# Total PDF\n",
      "def total_pdf(p,data):\n",
      "    ret = signal_pdf(p,data)*(800.0/len(data))+background_pdf(p,data)*(1-(800.0/len(data)))\n",
      "    return ret \n",
      "\n",
      "def negative_log_likelihood(p, data, y):\n",
      "    ret = np.sum(-1*np.log(total_pdf(p,data)))          \n",
      "    return ret\n",
      "\n",
      "\n",
      "#############################################################\n",
      "# Main code here\n",
      "#############################################################\n",
      "\n",
      "# You want to fit to the data variable above.\n",
      "data = None\n",
      "\n",
      "# Generate the background events.\n",
      "nbkg_generated = 10000\n",
      "beta = 2.0\n",
      "# Note that this actually goes into the function as -beta (negative value)\n",
      "x = np.random.exponential(scale=beta,size=nbkg_generated)\n",
      "\n",
      "x = x[x<10]\n",
      "print \"Actual number of background events generated: %d\" % (len(x))\n",
      "\n",
      "data = x.copy()\n",
      "\n",
      "# Generate the background events.\n",
      "nsig_generated = 800\n",
      "mu = 2.0\n",
      "sigma = 0.2\n",
      "# Note that this actually goes into the function as -beta (negative value)\n",
      "x = np.random.normal(loc=mean,scale=width,size=nsig_generated)\n",
      "\n",
      "x = x[x<10]\n",
      "print \"Actual number of signal events generated: %d\" % (len(x))\n",
      "\n",
      "data = np.append(data,x)\n",
      "plt.figure()\n",
      "lch.hist_err(data,bins=25)\n",
      "\n",
      "print \"Total data events: %d\" % (len(data))\n",
      "# Now fit the data.\n",
      "\n",
      "params_starting_vals = [1.0,1.0,1.0]\n",
      "params_final_vals = optimize.fmin(negative_log_likelihood, params_starting_vals[:],args=(data,data),full_output=True)\n",
      "\n",
      "print \"Final values\"\n",
      "print params_final_vals\n",
      "fit_mu = params_final_vals[0][0]\n",
      "fit_sigma = params_final_vals[0][1]\n",
      "fit_beta = params_final_vals[0][2]\n",
      "\n",
      "xpts = np.arange(0,10,0.1)\n",
      "signal_fit = mygauss(xpts,fit_mu,fit_sigma)\n",
      "original_signal = mygauss(xpts,mu,sigma)\n",
      "bkg_fit = myexp(xpts,fit_beta)\n",
      "original_bkg = myexp(xpts,beta)\n",
      "\n",
      "nbins = 25\n",
      "b = len(data)*(max(data)-min(data))/nbins\n",
      "\n",
      "\n",
      "plt.plot(xpts,b*signal_fit)\n",
      "#plt.plot(xpts,b*original_signal)\n",
      "plt.plot(xpts,b*bkg_fit)\n",
      "#plt.plot(xpts,b*original_bkg)\n",
      "plt.show()"
     ],
     "language": "python",
     "metadata": {},
     "outputs": [
      {
       "output_type": "stream",
       "stream": "stdout",
       "text": [
        "Actual number of background events generated: 9939\n",
        "Actual number of signal events generated: 800\n",
        "Total data events: 10739"
       ]
      },
      {
       "output_type": "stream",
       "stream": "stdout",
       "text": [
        "\n",
        "Optimization terminated successfully."
       ]
      },
      {
       "output_type": "stream",
       "stream": "stdout",
       "text": [
        "\n",
        "         Current function value: 17585.206628\n",
        "         Iterations: 86\n",
        "         Function evaluations: 153\n",
        "Final values\n",
        "(array([ 2.0294882 ,  0.20222333,  0.52310905]), 17585.206628209733, 86, 153, 0)\n"
       ]
      },
      {
       "metadata": {},
       "output_type": "display_data",
       "png": "[encoded data removed]",
       "text": [
        "<matplotlib.figure.Figure at 0x7f95d8c7df90>"
       ]
      }
     ],
     "prompt_number": 3
    },
    {
     "cell_type": "code",
     "collapsed": false,
     "input": [],
     "language": "python",
     "metadata": {},
     "outputs": [],
     "prompt_number": 3
    },
    {
     "cell_type": "code",
     "collapsed": false,
     "input": [],
     "language": "python",
     "metadata": {},
     "outputs": []
    }
   ],
   "metadata": {}
  }
 ]
}