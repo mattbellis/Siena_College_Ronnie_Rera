{
 "metadata": {
  "name": "",
  "signature": "sha256:ee44d92169be942bda7bac989e2ab968cd7c7cccb67c2b06ddf25e4a38881b08"
 },
 "nbformat": 3,
 "nbformat_minor": 0,
 "worksheets": [
  {
   "cells": [
    {
     "cell_type": "markdown",
     "metadata": {},
     "source": [
      "Suppose I make a measurement of some physical process, for instance, the invariant mass spectrum of some particle physics process. \n",
      "\n",
      "There is some background, represented by a falling exponential, and some signal represented by a Gaussian function.\n",
      "\n",
      "Let me generate some fake data to represent this. "
     ]
    },
    {
     "cell_type": "code",
     "collapsed": false,
     "input": [
      "import matplotlib.pylab as plt\n",
      "import numpy as np\n",
      "\n",
      "data = None\n",
      "\n",
      "# Generate the background events.\n",
      "nbkg_generated = 10000\n",
      "beta = 2.0\n",
      "# Note that this actually goes into the function as -beta (negative value)\n",
      "x = np.random.exponential(scale=beta,size=nbkg_generated)\n",
      "\n",
      "x = x[x<10]\n",
      "print \"Actual number of background events generated: %d\" % (len(x))\n",
      "\n",
      "data = x.copy()\n",
      "\n",
      "# Generate the background events.\n",
      "nsig_generated = 800\n",
      "mean = 2.0\n",
      "width = 0.2\n",
      "# Note that this actually goes into the function as -beta (negative value)\n",
      "x = np.random.normal(loc=mean,scale=width,size=nsig_generated)\n",
      "\n",
      "x = x[x<10]\n",
      "print \"Actual number of signal events generated: %d\" % (len(x))\n",
      "\n",
      "data = np.append(data,x)\n",
      "\n",
      "print \"Total data events: %d\" % (len(data))"
     ],
     "language": "python",
     "metadata": {},
     "outputs": [
      {
       "output_type": "stream",
       "stream": "stdout",
       "text": [
        "Actual number of background events generated: 9917\n",
        "Actual number of signal events generated: 800\n",
        "Total data events: 10717\n"
       ]
      }
     ],
     "prompt_number": 38
    },
    {
     "cell_type": "code",
     "collapsed": false,
     "input": [
      "h = plt.hist(data,bins=100)"
     ],
     "language": "python",
     "metadata": {},
     "outputs": [
      {
       "metadata": {},
       "output_type": "display_data",
       "png": "[encoded data removed]",
       "text": [
        "<matplotlib.figure.Figure at 0x7f931341ac10>"
       ]
      }
     ],
     "prompt_number": 39
    },
    {
     "cell_type": "markdown",
     "metadata": {},
     "source": [
      "Your job is to write a piece of code that uses the Maximum Likelihood Method (MLM) to fit for\n",
      "* beta (slope) of the exponential background\n",
      "* mean of the Gaussian signal\n",
      "* width of the Gaussian signal\n",
      "* number of signal events\n",
      "* number of background events\n",
      "\n",
      "You can start with your example MLM code from your previous exercise. \n",
      "\n",
      "This problem is a bit different because you have *two* different physics process contributing. I'll give you a hint: you'll need to determine the probability that a given events comes from *either* the background *or* the signal process. \n",
      "\n",
      "I'll give you little roadmap below of the functions you'll need to write. Again, refer to your previous activity for guidance.\n",
      "\n",
      "Good luck!"
     ]
    },
    {
     "cell_type": "code",
     "collapsed": false,
     "input": [
      "#############################################################\n",
      "# Your code below\n",
      "#############################################################\n",
      "\n",
      "\n",
      "# Signal PDF, make sure this is normalized to 1\n",
      "def signal_pdf(x,parameters):\n",
      "    \n",
      "    pdf = np.ones(len(x))\n",
      "    \n",
      "    return pdf \n",
      "\n",
      "\n",
      "# Background PDF, make sure this is normalized to 1\n",
      "def background_pdf(x,parameters):\n",
      "    \n",
      "    pdf = np.ones(len(x))\n",
      "    \n",
      "    return pdf \n",
      "\n",
      "\n",
      "# Total PDF\n",
      "def total_pdf(x,parameters):\n",
      "\n",
      "    pdf = np.ones(len(x))\n",
      "    \n",
      "    return pdf \n",
      "\n",
      "def negative_log_likelihood(parameters, x, y):\n",
      "    \n",
      "    pdf = np.ones(len(x))\n",
      "    \n",
      "    return pdf \n",
      "\n",
      "\n",
      "#############################################################\n",
      "# Main code here\n",
      "#############################################################\n",
      "\n",
      "# You want to fit to the data variable above.\n",
      "\n",
      "\n",
      "    "
     ],
     "language": "python",
     "metadata": {},
     "outputs": [],
     "prompt_number": 41
    },
    {
     "cell_type": "code",
     "collapsed": false,
     "input": [],
     "language": "python",
     "metadata": {},
     "outputs": []
    }
   ],
   "metadata": {}
  }
 ]
}