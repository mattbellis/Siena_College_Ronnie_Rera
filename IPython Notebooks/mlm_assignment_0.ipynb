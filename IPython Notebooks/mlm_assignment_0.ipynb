{
 "metadata": {
  "name": "",
<<<<<<< HEAD
  "signature": "sha256:083755e1347f6a7af8907788c2e4e6ce17e9236cac04df300bbabe8d6669f651"
=======
  "signature": "sha256:962be67ee9713f50e81e11ee8272a517999fa680177b002acec4f1e754ffdfdb"
>>>>>>> 91631a2675d081ef0cba3ec4bf24086d0b776a3c
 },
 "nbformat": 3,
 "nbformat_minor": 0,
 "worksheets": [
  {
   "cells": [
    {
     "cell_type": "markdown",
     "metadata": {},
     "source": [
      "Suppose I make a measurement of some physical process, for instance, the invariant mass spectrum of some particle physics process. \n",
      "\n",
      "There is some background, represented by a falling exponential, and some signal represented by a Gaussian function.\n",
      "\n",
      "Let me generate some fake data to represent this. "
     ]
    },
    {
     "cell_type": "code",
     "collapsed": false,
     "input": [
      "import matplotlib.pylab as plt\n",
      "import numpy as np\n",
      "from scipy import optimize\n",
      "import lichen.lichen as lch\n",
      "%matplotlib inline\n",
      "data = None\n",
      "\n",
      "# Generate the background events.\n",
      "nbkg_generated = 100000\n",
      "beta = 2.0\n",
      "# Note that this actually goes into the function as -beta (negative value)\n",
      "x = np.random.exponential(scale=beta,size=nbkg_generated)\n",
      "\n",
      "x = x[x<10]\n",
      "print \"Actual number of background events generated: %d\" % (len(x))\n",
      "\n",
      "data = x.copy()\n",
      "\n",
      "# Generate the background events.\n",
      "nsig_generated = 1000\n",
      "mu = 2.0\n",
      "sigma = 0.1\n",
      "# Note that this actually goes into the function as -beta (negative value)\n",
      "x = np.random.normal(loc=mu,scale=sigma,size=nsig_generated)\n",
      "\n",
      "x = x[x<10]\n",
      "print \"Actual number of signal events generated: %d\" % (len(x))\n",
      "\n",
      "data = np.append(data,x)\n",
      "\n",
      "print \"Total data events: %d\" % (len(data))"
     ],
     "language": "python",
     "metadata": {},
     "outputs": [
      {
       "output_type": "stream",
       "stream": "stdout",
       "text": [
<<<<<<< HEAD
        "Actual number of background events generated: 9925\n",
        "Actual number of signal events generated: 800\n",
        "Total data events: 10725\n"
=======
        "Actual number of background events generated: 99380\n",
        "Actual number of signal events generated: 1000\n",
        "Total data events: 100380\n"
>>>>>>> 91631a2675d081ef0cba3ec4bf24086d0b776a3c
       ]
      }
     ],
     "prompt_number": 59
    },
    {
     "cell_type": "code",
     "collapsed": false,
     "input": [
      "h = plt.hist(data,bins=100)"
     ],
     "language": "python",
     "metadata": {},
     "outputs": [
      {
       "metadata": {},
       "output_type": "display_data",
<<<<<<< HEAD
       "png": "iVBORw0KGgoAAAANSUhEUgAAAXgAAAEACAYAAAC57G0KAAAABHNCSVQICAgIfAhkiAAAAAlwSFlz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\n",
       "text": [
        "<matplotlib.figure.Figure at 0x7f95e4db4990>"
=======
       "png": "iVBORw0KGgoAAAANSUhEUgAAAX4AAAEACAYAAAC08h1NAAAABHNCSVQICAgIfAhkiAAAAAlwSFlz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\nAAAASUVORK5CYII=\n",
       "text": [
        "<matplotlib.figure.Figure at 0x7f5223b014d0>"
>>>>>>> 91631a2675d081ef0cba3ec4bf24086d0b776a3c
       ]
      }
     ],
     "prompt_number": 60
    },
    {
     "cell_type": "markdown",
     "metadata": {},
     "source": [
      "Your job is to write a piece of code that uses the Maximum Likelihood Method (MLM) to fit for\n",
      "* beta (slope) of the exponential background\n",
      "* mean of the Gaussian signal\n",
      "* width of the Gaussian signal\n",
      "* number of signal events\n",
      "* number of background events\n",
      "\n",
      "You can start with your example MLM code from your previous exercise. \n",
      "\n",
      "This problem is a bit different because you have *two* different physics process contributing. I'll give you a hint: you'll need to determine the probability that a given events comes from *either* the background *or* the signal process. \n",
      "\n",
      "I'll give you little roadmap below of the functions you'll need to write. Again, refer to your previous activity for guidance.\n",
      "\n",
      "Good luck!"
     ]
    },
    {
     "cell_type": "code",
     "collapsed": false,
     "input": [
      "#############################################################\n",
      "# Your code below\n",
      "#############################################################\n",
      "\n",
      "def mygauss(data,mu,sigma):\n",
      "    exponent = ((data-mu)**2)/(2*sigma**2)\n",
      "    a = 1.0/(sigma*np.sqrt(2*np.pi))\n",
      "    ret = a*np.exp(-exponent)\n",
      "    return ret\n",
      "\n",
      "def myexp(data,beta):\n",
      "    ret = (1/beta)*np.exp(-(1./beta)*data)\n",
      "    return ret\n",
      "\n",
      "# Signal PDF, make sure this is normalized to 1\n",
      "def signal_pdf(p,data):\n",
      "    ret = mygauss(data,p[0],p[1])\n",
      "    return ret\n",
      "    \n",
      "# Background PDF, make sure this is normalized to 1\n",
      "def background_pdf(p,data):\n",
      "    ret = myexp(data,p[2])\n",
      "    return ret \n",
      "\n",
      "\n",
      "# Total PDF\n",
      "def total_pdf(p,data):\n",
      "    ret = signal_pdf(p,data)*(p[3]/len(data))+background_pdf(p,data)*(1-(p[3]/len(data)))\n",
      "    return ret \n",
      "\n",
      "def negative_log_likelihood(p, data, y):\n",
      "    ret = np.sum(-1*np.log(total_pdf(p,data)))          \n",
      "    return ret\n",
      "\n",
      "\n",
      "#############################################################\n",
      "# Main code here\n",
      "#############################################################\n",
      "\n",
      "nbins = 50\n",
      "\n",
      "plt.figure()\n",
      "lch.hist_err(data,bins=nbins)\n",
      "\n",
      "print \"Total data events: %d\" % (len(data))\n",
      "# Now fit the data.\n",
      "\n",
      "params_starting_vals = [1.0,1.0,1.0,400.]\n",
      "params_final_vals = optimize.fmin(negative_log_likelihood, params_starting_vals[:],args=(data,data),full_output=True,xtol=0.0001,maxfun=2000)\n",
      "\n",
      "print \"Final values\"\n",
      "print params_final_vals\n",
      "fit_mu = params_final_vals[0][0]\n",
      "fit_sigma = params_final_vals[0][1]\n",
      "fit_beta = params_final_vals[0][2]\n",
      "fit_nsig = params_final_vals[0][3]\n",
      "\n",
      "print \"mu:    %f   %f\" % (fit_mu,mu)\n",
      "print \"sigma: %f   %f\" % (fit_sigma,sigma)\n",
      "print \"beta:  %f   %f\" % (fit_beta,beta)\n",
      "print \"nsig:  %f   %f\" % (fit_nsig,nsig_generated)\n",
      "\n",
      "xpts = np.arange(0,10,0.1)\n",
      "signal_fit = mygauss(xpts,fit_mu,fit_sigma)\n",
      "original_signal = mygauss(xpts,mu,sigma)\n",
      "bkg_fit = myexp(xpts,fit_beta)\n",
      "original_bkg = myexp(xpts,beta)\n",
      "\n",
      "\n",
      "ndata = len(data)\n",
      "nsig = fit_nsig\n",
      "\n",
      "scale_bkg = (ndata-nsig)*(max(data)-min(data))/nbins\n",
      "scale_sig = (nsig)*(max(data)-min(data))/nbins\n",
      "\n",
      "ysig = scale_sig*signal_fit\n",
      "ybkg = scale_bkg*bkg_fit\n",
      "\n",
      "ytot = ysig + ybkg\n",
      "\n",
      "plt.plot(xpts,ysig)\n",
      "plt.plot(xpts,ybkg)\n",
      "plt.plot(xpts,ytot)\n",
      "\n",
      "plt.show()"
     ],
     "language": "python",
     "metadata": {},
     "outputs": [
      {
       "output_type": "stream",
       "stream": "stdout",
       "text": [
<<<<<<< HEAD
        "Actual number of background events generated: 9939\n",
        "Actual number of signal events generated: 800\n",
        "Total data events: 10739"
       ]
      },
      {
       "output_type": "stream",
       "stream": "stdout",
       "text": [
        "\n",
=======
        "Total data events: 100380\n",
>>>>>>> 91631a2675d081ef0cba3ec4bf24086d0b776a3c
        "Optimization terminated successfully."
       ]
      },
      {
       "output_type": "stream",
       "stream": "stdout",
       "text": [
        "\n",
<<<<<<< HEAD
        "         Current function value: 17585.206628\n",
        "         Iterations: 86\n",
        "         Function evaluations: 153\n",
        "Final values\n",
        "(array([ 2.0294882 ,  0.20222333,  0.52310905]), 17585.206628209733, 86, 153, 0)\n"
=======
        "         Current function value: 166143.027469\n",
        "         Iterations: 372\n",
        "         Function evaluations: 643\n",
        "Final values\n",
        "(array([  1.99816185e+00,   1.32420739e-01,   1.92615517e+00,\n",
        "         1.32300550e+03]), 166143.02746850133, 372, 643, 0)\n",
        "mu:    1.998162   2.000000\n",
        "sigma: 0.132421   0.100000\n",
        "beta:  1.926155   2.000000\n",
        "nsig:  1323.005500   1000.000000\n"
>>>>>>> 91631a2675d081ef0cba3ec4bf24086d0b776a3c
       ]
      },
      {
       "metadata": {},
       "output_type": "display_data",
<<<<<<< HEAD
       "png": "iVBORw0KGgoAAAANSUhEUgAAAX4AAAEACAYAAAC08h1NAAAABHNCSVQICAgIfAhkiAAAAAlwSFlz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\n",
       "text": [
        "<matplotlib.figure.Figure at 0x7f95d8c7df90>"
       ]
      }
     ],
     "prompt_number": 3
=======
       "png": "iVBORw0KGgoAAAANSUhEUgAAAYQAAAEACAYAAACznAEdAAAABHNCSVQICAgIfAhkiAAAAAlwSFlz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\nQBAREQD+H9fFVnPrGVH2AAAAAElFTkSuQmCC\n",
       "text": [
        "<matplotlib.figure.Figure at 0x7f5223484c90>"
       ]
      }
     ],
     "prompt_number": 61
    },
    {
     "cell_type": "code",
     "collapsed": false,
     "input": [],
     "language": "python",
     "metadata": {},
     "outputs": [],
     "prompt_number": 44
>>>>>>> 91631a2675d081ef0cba3ec4bf24086d0b776a3c
    },
    {
     "cell_type": "code",
     "collapsed": false,
     "input": [],
     "language": "python",
     "metadata": {},
     "outputs": [],
     "prompt_number": 34
    },
    {
     "cell_type": "code",
     "collapsed": false,
     "input": [],
     "language": "python",
     "metadata": {},
     "outputs": []
    }
   ],
   "metadata": {}
  }
 ]
}
