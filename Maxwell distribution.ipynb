{
 "metadata": {
  "name": "",
  "signature": "sha256:533a528cea7fed7fed95b55d8eb9336c21bd761d60afad43db3636f7edef9aad"
 },
 "nbformat": 3,
 "nbformat_minor": 0,
 "worksheets": [
  {
   "cells": [
    {
     "cell_type": "markdown",
     "metadata": {},
     "source": [
      "The ratio of the probability to find an atom in a particular state to any other state is equal to the ratio of the number of microstates in each state. This is because if a state contains twice as many microstates, it would be twice as likely you would find the particle in that state as opposed to the other.\n",
      "\n",
      "$$\\frac{P(S_2)}{P(S_1)}=\\frac{W(S_2)}{W(S_1)}$$"
     ]
    },
    {
     "cell_type": "markdown",
     "metadata": {},
     "source": [
      "   From thermodynamics $s=k ln(W)$, (where s is entropy and should not be confused with the state S)\n",
      "   $$W=e^\\frac{s}{k}$$"
     ]
    },
    {
     "cell_type": "markdown",
     "metadata": {},
     "source": [
      "The ratio of the probabilities in terms of entropy is then,\n",
      "\n",
      "$$\\frac{P(S_2)}{P(S_1)}=\\frac{e^\\frac{s_2}{k}}{e^\\frac{s_1}{k}}=e^{\\frac{1}{k}[s_2-s_1]}$$"
     ]
    },
    {
     "cell_type": "markdown",
     "metadata": {},
     "source": [
      "Using the thermodynamic identity $dS=\\frac{1}{T}(dU+PdV-\\mu dN)$ and solving for the Energy of the state U, we can show that it is related to the particles energy E and the equation above becomes,"
     ]
    },
    {
     "cell_type": "markdown",
     "metadata": {},
     "source": [
      "$$\\frac{P(S_2)}{P(S_1)}=\\frac{e^{-\\frac{E_2}{kT}}}{e^{-\\frac{E_2}{kT}}}=e^{-\\frac{1}{kT}[E_2-E_1]}$$"
     ]
    },
    {
     "cell_type": "markdown",
     "metadata": {},
     "source": [
      "The factor $e^{-\\frac{1}{kT}E(s)}$ is known as the boltzmann factor. Normalizing the boltzmann factor produces the boltzmann distribution."
     ]
    },
    {
     "cell_type": "markdown",
     "metadata": {},
     "source": [
      "The energy of a particle as a function of velocity classically is $E=\\frac{1}{2}mv^2$. If we turn the boltzmann distribution into a function of velocity by substituting the classical kinetic energy for E and integrating over all v the boltzmann distribution becomes a velocity distribution,"
     ]
    },
    {
     "cell_type": "markdown",
     "metadata": {},
     "source": [
      "$$e^{-\\frac{mv^2}{2kT}}$$"
     ]
    },
    {
     "cell_type": "markdown",
     "metadata": {},
     "source": [
      "But this is only in one dimension. To extend the velocity distribution to three dimensions we multiply the probability of having velocity v by the number of velocity vectors corresponding to v. In three dimensional space, the number of vectors with velocity v form a velocity space with area proportional to $4\\pi v^2$. The velocity distribution in three dimensions is then,"
     ]
    },
    {
     "cell_type": "markdown",
     "metadata": {},
     "source": [
      "$$D(v)=C4\\pi v^2e^{-\\frac{mv^2}{2kT}}$$"
     ]
    },
    {
     "cell_type": "markdown",
     "metadata": {},
     "source": [
      "where C is the normalization constant integrated of all velocity space. This is known as a Maxwell boltzmann distribution. In Lewin and Smith, The've a maxwellian distribution but seem to neglect the $v^2$ term. This is ok because they're taking the one dimensional case. An extension into three dimensions is where the $v^2$ term comes in."
     ]
    },
    {
     "cell_type": "code",
     "collapsed": false,
     "input": [],
     "language": "python",
     "metadata": {},
     "outputs": []
    }
   ],
   "metadata": {}
  }
 ]
}